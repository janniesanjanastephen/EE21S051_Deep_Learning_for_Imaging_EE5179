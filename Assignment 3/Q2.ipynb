{
  "nbformat": 4,
  "nbformat_minor": 0,
  "metadata": {
    "colab": {
      "provenance": []
    },
    "kernelspec": {
      "name": "python3",
      "display_name": "Python 3"
    },
    "language_info": {
      "name": "python"
    },
    "accelerator": "GPU"
  },
  "cells": [
    {
      "cell_type": "code",
      "execution_count": null,
      "metadata": {
        "id": "jG4upmIr-t7S",
        "colab": {
          "base_uri": "https://localhost:8080/"
        },
        "outputId": "5a23d17d-0025-4122-ef5b-b677d345c295"
      },
      "outputs": [
        {
          "output_type": "execute_result",
          "data": {
            "text/plain": [
              "device(type='cpu')"
            ]
          },
          "metadata": {},
          "execution_count": 1
        }
      ],
      "source": [
        "import torch\n",
        "# Device configuration\n",
        "device = torch.device('cuda' if torch.cuda.is_available() else 'cpu')\n",
        "device"
      ]
    },
    {
      "cell_type": "code",
      "source": [
        "from torchvision import datasets, transforms\n",
        "from torchvision.transforms import ToTensor\n",
        "from torch import nn\n",
        "import torch.nn.functional as F\n",
        "import matplotlib.pyplot as plt\n",
        "import numpy as np\n",
        "import pandas as pd"
      ],
      "metadata": {
        "id": "jL6-bSX9bSiA"
      },
      "execution_count": null,
      "outputs": []
    },
    {
      "cell_type": "code",
      "source": [
        "learning_rate = 0.001\n",
        "batch_size    = 100\n",
        "N_epochs      = 20\n",
        "N_iter_train  = 250\n",
        "N_iter_test   = 40\n",
        "N_iter_check  = 5\n",
        "input_size    = 10\n",
        "\n",
        "hidden_size   = 10"
      ],
      "metadata": {
        "id": "xNsoyv81bfhL"
      },
      "execution_count": null,
      "outputs": []
    },
    {
      "cell_type": "code",
      "source": [
        "def sequence_generator(L,batch_size,K = 1): #K=1, the model has to remember value at 2nd position\n",
        "    \n",
        "    random_seq = np.random.randint(0, 9,(batch_size, L)) #generated random number sequence\n",
        "\n",
        "    x = np.zeros((batch_size,L,10)) #second dimension is 10 as we're looking at one-hot vectors\n",
        "    y = np.zeros((batch_size,10)) #output\n",
        "    \n",
        "    for i in range(batch_size):\n",
        "        x[i,np.arange(L), random_seq[i]] = 1\n",
        "        y[i,random_seq[i,K]] = 1\n",
        "        \n",
        "    #converting to torch    \n",
        "    random_seq = torch.tensor(random_seq, dtype=torch.float) \n",
        "    x = torch.tensor(x, dtype=torch.int)\n",
        "    y = torch.tensor(y, dtype=torch.float)\n",
        "    \n",
        "\n",
        "    return random_seq,x.float(),y #as input x is reqd to be float "
      ],
      "metadata": {
        "id": "SItcL-RJ_sqD"
      },
      "execution_count": null,
      "outputs": []
    },
    {
      "cell_type": "code",
      "source": [
        "class vanilla_RNN(nn.Module):\n",
        "    def __init__(self,hidden_size):\n",
        "        \n",
        "        super().__init__()\n",
        "\n",
        "        self.rnn = nn.RNN(input_size = 10, \n",
        "                          hidden_size = hidden_size, \n",
        "                          num_layers = 1,\n",
        "                          bidirectional = False, \n",
        "                          batch_first = True)       \n",
        "        self.fc = nn.Linear(hidden_size, 10)\n",
        "        \n",
        "    def forward(self, x):\n",
        "\n",
        "        output, hidden = self.rnn(x)\n",
        "        out = self.fc(output[:,-1,:]) \n",
        "           \n",
        "        return out"
      ],
      "metadata": {
        "id": "VIl_zr3qcBf7"
      },
      "execution_count": null,
      "outputs": []
    },
    {
      "cell_type": "code",
      "source": [
        "from torch import optim\n",
        "loss_func = nn.CrossEntropyLoss()\n",
        "model = vanilla_RNN(hidden_size).to(device)\n",
        "optimizer = optim.Adam(model.parameters(), lr = 0.001)"
      ],
      "metadata": {
        "id": "4D1CApAFDcQ_"
      },
      "execution_count": null,
      "outputs": []
    },
    {
      "cell_type": "code",
      "source": [
        "def Train_sequence(model,optimizer,loss_func,N_iter_train = 250):\n",
        "    \n",
        "    model.train() #setting the model in training mode\n",
        "    #initializing the total training loss and total correct training predictions to 0\n",
        "    train_loss    = 0\n",
        "    train_correct = 0 #correct predictions made\n",
        "    \n",
        "    train_length = batch_size*N_iter_train\n",
        "    \n",
        "    for i in range(N_iter_train):\n",
        "        \n",
        "        L = np.random.randint(3,10) #randomizing L\n",
        "        \n",
        "        random_seq,x,y = sequence_generator(L)\n",
        "        x = x.to(device)\n",
        "        y = y.to(device)\n",
        "        \n",
        "        pred = model(x) #prediction using the input data\n",
        "      \n",
        "        loss = loss_func(pred,y)\n",
        "        \n",
        "        optimizer.zero_grad() #zeroing out the gradients before backprop\n",
        "        loss.backward()       #backprop from the loss\n",
        "        optimizer.step()      #updating the weights\n",
        "        \n",
        "        pred = pred.cpu()\n",
        "        loss = loss.cpu()\n",
        "\n",
        "        #Adding this loss to  training loss and computing correct predictions\n",
        "        train_loss    += loss\n",
        "        train_correct += (np.asarray(pred.argmax(axis = 1)-y.cpu().argmax(axis = 1))==0).sum() #as subtraction will result in 0 for correct pred\n",
        "        \n",
        "    #Computing training accuracy \n",
        "    train_loss = train_loss/(i+1)\n",
        "    train_correct /= train_length #training accuracy \n",
        "    \n",
        "    return train_loss.detach().cpu().numpy(), train_correct #returning loss and accuracy "
      ],
      "metadata": {
        "id": "7bIL5Qrp_uMx"
      },
      "execution_count": null,
      "outputs": []
    },
    {
      "cell_type": "code",
      "source": [
        "def Test_sequence(model,loss_func,N_iter_test = N_iter_test):\n",
        "    \n",
        "    model.eval()  #setting the model in eval/test mode\n",
        "    \n",
        "    #initializing the total test loss and total correct test predictions to 0\n",
        "    test_loss    = 0\n",
        "    test_correct = 0 #correct predictions made\n",
        "    test_length = batch_size*N_iter_test\n",
        "    \n",
        "    #switching off the gradient for eval\n",
        "    with torch.no_grad():\n",
        "        \n",
        "        for i in range(N_iter_test):\n",
        "        \n",
        "            L = np.random.randint(3,10) #randomizing L\n",
        "        \n",
        "            random_seq,x,y = sequence_generator(L)\n",
        "            x = x.to(device)\n",
        "            y = y.to(device)\n",
        "        \n",
        "            pred = model(x) #prediction using the input data\n",
        "        \n",
        "            loss = loss_func(pred,y.argmax(axis = 1))\n",
        "            \n",
        "            pred = pred.cpu()\n",
        "            loss = loss.cpu()\n",
        "\n",
        "            #Adding this loss to  testing loss and computing correct predictions\n",
        "            test_loss    += loss\n",
        "            test_correct += (np.asarray(pred.argmax(axis = 1)-y.cpu().argmax(axis = 1))==0).sum() #as subtraction will result in 0 for correct pred\n",
        "        \n",
        "    #Computing prediction accuracy \n",
        "    test_loss = test_loss/(i+1)\n",
        "    test_correct /= test_length #prediction accuracy \n",
        "    \n",
        "    return test_loss.detach().cpu().numpy(), test_correct #returning loss and accuracy "
      ],
      "metadata": {
        "id": "j_A5wB7WcpcJ"
      },
      "execution_count": null,
      "outputs": []
    },
    {
      "cell_type": "code",
      "source": [
        "#initialising the lists\n",
        "train_losses   = []\n",
        "test_losses    = []\n",
        "train_accuracy = []\n",
        "test_accuracy  = []\n",
        "\n",
        "#for epoch in range(1, N_epochs+1):\n",
        "for epoch in range(1, N_epochs+1):\n",
        "    print(epoch,\"/\", N_epochs)\n",
        "\n",
        "    #train the model\n",
        "    loss,accuracy = Train_sequence(model,optimizer,loss_func,N_iter_train = N_iter_train)\n",
        "    train_losses.append(loss)\n",
        "    train_accuracy.append(accuracy)\n",
        "    print('Train loss for Epoch ',epoch,': ',loss,' | ', 'Train accuracy for Epoch ',epoch, ': ',accuracy)\n",
        "\n",
        "    #test the model\n",
        "    loss,accuracy = Test_sequence(model,loss_func,N_iter_test = N_iter_test)\n",
        "    test_losses.append(loss)\n",
        "    test_accuracy.append(accuracy)\n",
        "    print('Test loss for Epoch ',epoch,': ',loss, ' | ', 'Test accuracy for Epoch ',epoch, ': ',accuracy)\n",
        "\n",
        "#Plotting the Loss and the accuracy curves\n",
        "fig, (ax1, ax2) = plt.subplots(1, 2)\n",
        "ax1.plot(np.asfarray(train_losses),label = 'Train Loss') #converting to float array\n",
        "ax1.plot(np.asfarray(test_losses),label = 'Validation Loss') \n",
        "ax1.set(xlabel='Epochs', ylabel='Normalised Loss')\n",
        "ax1.set_title('Training and Validation error')\n",
        "\n",
        "ax2.plot(np.asfarray(train_accuracy),label = 'Training Accuracy')\n",
        "ax2.plot(np.asfarray(test_accuracy),label = 'Testing Accuracy')\n",
        "ax2.set(xlabel='Epochs', ylabel='Accuracy')\n",
        "ax2.set_title('Training and Validation accuracy')\n",
        "ax2.legend()\n",
        "fig.tight_layout()"
      ],
      "metadata": {
        "colab": {
          "base_uri": "https://localhost:8080/",
          "height": 1000
        },
        "id": "R-FYahbmdAVt",
        "outputId": "c061b34a-ab3a-4068-f05a-1705f74b5275"
      },
      "execution_count": null,
      "outputs": [
        {
          "output_type": "stream",
          "name": "stdout",
          "text": [
            "1 / 20\n",
            "Train loss for Epoch  1 :  2.2575984  |  Train accuracy for Epoch  1 :  0.12164\n",
            "Test loss for Epoch  1 :  2.2061765  |  Test accuracy for Epoch  1 :  0.131\n",
            "2 / 20\n",
            "Train loss for Epoch  2 :  2.1297002  |  Train accuracy for Epoch  2 :  0.17872\n",
            "Test loss for Epoch  2 :  2.0904086  |  Test accuracy for Epoch  2 :  0.20575\n",
            "3 / 20\n",
            "Train loss for Epoch  3 :  2.0817266  |  Train accuracy for Epoch  3 :  0.20388\n",
            "Test loss for Epoch  3 :  2.0877497  |  Test accuracy for Epoch  3 :  0.199\n",
            "4 / 20\n",
            "Train loss for Epoch  4 :  2.0503883  |  Train accuracy for Epoch  4 :  0.2298\n",
            "Test loss for Epoch  4 :  2.0093217  |  Test accuracy for Epoch  4 :  0.24225\n",
            "5 / 20\n",
            "Train loss for Epoch  5 :  1.9422538  |  Train accuracy for Epoch  5 :  0.272\n",
            "Test loss for Epoch  5 :  1.847606  |  Test accuracy for Epoch  5 :  0.30725\n",
            "6 / 20\n",
            "Train loss for Epoch  6 :  1.6689517  |  Train accuracy for Epoch  6 :  0.34336\n",
            "Test loss for Epoch  6 :  1.5011898  |  Test accuracy for Epoch  6 :  0.38525\n",
            "7 / 20\n",
            "Train loss for Epoch  7 :  1.3966227  |  Train accuracy for Epoch  7 :  0.424\n",
            "Test loss for Epoch  7 :  1.2967812  |  Test accuracy for Epoch  7 :  0.45\n",
            "8 / 20\n",
            "Train loss for Epoch  8 :  1.213383  |  Train accuracy for Epoch  8 :  0.49148\n",
            "Test loss for Epoch  8 :  1.1543994  |  Test accuracy for Epoch  8 :  0.52625\n",
            "9 / 20\n",
            "Train loss for Epoch  9 :  1.0568869  |  Train accuracy for Epoch  9 :  0.5812\n",
            "Test loss for Epoch  9 :  0.99806774  |  Test accuracy for Epoch  9 :  0.6425\n",
            "10 / 20\n",
            "Train loss for Epoch  10 :  0.9453788  |  Train accuracy for Epoch  10 :  0.6408\n",
            "Test loss for Epoch  10 :  0.9335408  |  Test accuracy for Epoch  10 :  0.6575\n",
            "11 / 20\n",
            "Train loss for Epoch  11 :  0.8235563  |  Train accuracy for Epoch  11 :  0.68824\n",
            "Test loss for Epoch  11 :  0.82683456  |  Test accuracy for Epoch  11 :  0.69225\n",
            "12 / 20\n",
            "Train loss for Epoch  12 :  0.7469852  |  Train accuracy for Epoch  12 :  0.725\n",
            "Test loss for Epoch  12 :  0.63433844  |  Test accuracy for Epoch  12 :  0.76125\n",
            "13 / 20\n",
            "Train loss for Epoch  13 :  0.6672661  |  Train accuracy for Epoch  13 :  0.7534\n",
            "Test loss for Epoch  13 :  0.5742372  |  Test accuracy for Epoch  13 :  0.773\n",
            "14 / 20\n",
            "Train loss for Epoch  14 :  0.6066345  |  Train accuracy for Epoch  14 :  0.77472\n",
            "Test loss for Epoch  14 :  0.5709286  |  Test accuracy for Epoch  14 :  0.78625\n",
            "15 / 20\n",
            "Train loss for Epoch  15 :  0.56055045  |  Train accuracy for Epoch  15 :  0.8018\n",
            "Test loss for Epoch  15 :  0.53982866  |  Test accuracy for Epoch  15 :  0.808\n",
            "16 / 20\n",
            "Train loss for Epoch  16 :  0.48291773  |  Train accuracy for Epoch  16 :  0.8354\n",
            "Test loss for Epoch  16 :  0.47338468  |  Test accuracy for Epoch  16 :  0.8715\n",
            "17 / 20\n",
            "Train loss for Epoch  17 :  0.39103648  |  Train accuracy for Epoch  17 :  0.92376\n",
            "Test loss for Epoch  17 :  0.37058526  |  Test accuracy for Epoch  17 :  0.94375\n",
            "18 / 20\n",
            "Train loss for Epoch  18 :  0.30331954  |  Train accuracy for Epoch  18 :  0.95852\n",
            "Test loss for Epoch  18 :  0.2590236  |  Test accuracy for Epoch  18 :  0.979\n",
            "19 / 20\n",
            "Train loss for Epoch  19 :  0.24369499  |  Train accuracy for Epoch  19 :  0.97636\n",
            "Test loss for Epoch  19 :  0.24138863  |  Test accuracy for Epoch  19 :  0.98075\n",
            "20 / 20\n",
            "Train loss for Epoch  20 :  0.21773176  |  Train accuracy for Epoch  20 :  0.98348\n",
            "Test loss for Epoch  20 :  0.22008765  |  Test accuracy for Epoch  20 :  0.983\n"
          ]
        },
        {
          "output_type": "display_data",
          "data": {
            "text/plain": [
              "<Figure size 432x288 with 2 Axes>"
            ],
            "image/png": "[encoded data removed]"
          },
          "metadata": {
            "needs_background": "light"
          }
        }
      ]
    },
    {
      "cell_type": "code",
      "source": [
        "def Check_sequence(model,lossfn,N_iter_check):\n",
        "    \n",
        "    model.eval()\n",
        "    \n",
        "    test_accuracies = []\n",
        "    \n",
        "    for L in range(3,10): #iterating through L in the required range\n",
        "    \n",
        "        #initializing the total test loss and total correct test predictions to 0\n",
        "        test_loss    = 0\n",
        "        test_correct = 0 #correct predictions made\n",
        "        test_length = N_iter_check\n",
        "    \n",
        "        #switching off the gradient for eval\n",
        "        with torch.no_grad():\n",
        "            \n",
        "        \n",
        "            random_seq,x,y = sequence_generator(L,N_iter_check)\n",
        "            x = x.to(device)\n",
        "            y = y.to(device)\n",
        "\n",
        "            pred = model(x)\n",
        "\n",
        "            loss = loss_func(pred,y.argmax(axis = 1))\n",
        "            \n",
        "            pred = pred.cpu()\n",
        "            loss = loss.cpu()\n",
        "    \n",
        "            #Adding this loss to  testing loss and computing correct predictions\n",
        "            test_loss    += loss\n",
        "            test_correct += (np.asarray(pred.argmax(axis = 1)-y.cpu().argmax(axis = 1))==0).sum() #as subtraction will result in 0 for correct pred\n",
        "        \n",
        "        #Computing prediction accuracy \n",
        "    \n",
        "        test_correct /= test_length #prediction accuracy\n",
        "            \n",
        "        test_accuracies.append(test_correct)\n",
        "            \n",
        "    \n",
        "    #plotting test accuracies vs L\n",
        "    \n",
        "    plt.bar(np.arange(3,10),test_accuracies)\n",
        "    plt.xlabel('L')\n",
        "    plt.ylabel('Accuracy')\n",
        "    plt.ylim(0,1) #as accuracy is between 0 and 1\n",
        "    plt.grid()\n",
        "    plt.legend()\n",
        "    plt.title('Prediction Accuracy vs Length')\n",
        "    plt.show()\n",
        "    \n",
        "    print(f'Prediction Accuracies : {test_accuracies}')"
      ],
      "metadata": {
        "id": "2NDBf283bH4q"
      },
      "execution_count": null,
      "outputs": []
    },
    {
      "cell_type": "code",
      "source": [
        "Check_sequence(model,loss_func,100)"
      ],
      "metadata": {
        "colab": {
          "base_uri": "https://localhost:8080/",
          "height": 330
        },
        "id": "BMW9DrnncYhO",
        "outputId": "108a2f28-9836-4fd8-ffa8-f1c3e50aa0cc"
      },
      "execution_count": null,
      "outputs": [
        {
          "output_type": "stream",
          "name": "stderr",
          "text": [
            "WARNING:matplotlib.legend:No handles with labels found to put in legend.\n"
          ]
        },
        {
          "output_type": "display_data",
          "data": {
            "text/plain": [
              "<Figure size 432x288 with 1 Axes>"
            ],
            "image/png": "[encoded data removed]"
          },
          "metadata": {
            "needs_background": "light"
          }
        },
        {
          "output_type": "stream",
          "name": "stdout",
          "text": [
            "Prediction Accuracies : [0.96, 1.0, 1.0, 1.0, 1.0, 1.0, 1.0]\n"
          ]
        }
      ]
    }
  ]
}