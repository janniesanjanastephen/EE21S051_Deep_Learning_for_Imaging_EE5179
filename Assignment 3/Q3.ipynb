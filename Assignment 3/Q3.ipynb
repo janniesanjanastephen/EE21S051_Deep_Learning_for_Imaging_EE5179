{
  "nbformat": 4,
  "nbformat_minor": 0,
  "metadata": {
    "colab": {
      "provenance": []
    },
    "kernelspec": {
      "name": "python3",
      "display_name": "Python 3"
    },
    "language_info": {
      "name": "python"
    }
  },
  "cells": [
    {
      "cell_type": "code",
      "execution_count": 45,
      "metadata": {
        "colab": {
          "base_uri": "https://localhost:8080/"
        },
        "id": "C2ZgfiTq7qf9",
        "outputId": "d55d2662-2a0f-44dd-bb66-dbf5db049f2d"
      },
      "outputs": [
        {
          "output_type": "execute_result",
          "data": {
            "text/plain": [
              "device(type='cpu')"
            ]
          },
          "metadata": {},
          "execution_count": 45
        }
      ],
      "source": [
        "import torch\n",
        "# Device configuration\n",
        "device = torch.device('cuda' if torch.cuda.is_available() else 'cpu')\n",
        "device"
      ]
    },
    {
      "cell_type": "code",
      "source": [
        "from torchvision import datasets, transforms\n",
        "from torchvision.transforms import ToTensor\n",
        "from torch import nn\n",
        "import torch.nn.functional as F\n",
        "import matplotlib.pyplot as plt\n",
        "import numpy as np\n",
        "import pandas as pd"
      ],
      "metadata": {
        "id": "Hi6Y8Yrg7vmm"
      },
      "execution_count": 46,
      "outputs": []
    },
    {
      "cell_type": "code",
      "source": [
        "learning_rate = 0.001\n",
        "batch_size    = 100\n",
        "N_epochs      = 10\n",
        "N_iter_train  = 250\n",
        "N_iter_test   = 40\n",
        "N_iter_check  = 20\n",
        "input_size    = 2\n",
        "\n",
        "hidden_size   = 10\n",
        "L = 10\n",
        "loss_flag = 0"
      ],
      "metadata": {
        "id": "2-68TsvN7wr5"
      },
      "execution_count": 57,
      "outputs": []
    },
    {
      "cell_type": "code",
      "source": [
        "def binary_sequence_generator(L,batch_size = batch_size):\n",
        "    \n",
        "    x = np.zeros((batch_size, L+1 ,2)) #we zero pad as output sequence might have dimension L+1\n",
        "    y = np.zeros((batch_size,L+1)) #output\n",
        "    \n",
        "    for i in range(batch_size):\n",
        "        a = np.random.randint(0,2**(L)) #number 1\n",
        "        b = np.random.randint(0,2**L) #number 2\n",
        "        c = a+b #sum\n",
        "        \n",
        "        \n",
        "        bin_a = bin(a)[2:]\n",
        "        bin_a = list(str('0')*(L+1 - len(bin_a)) + bin_a) #sign extension\n",
        "        bin_a = np.asarray(bin_a[::-1],dtype = int) #converting to numpy array and reversing the string\n",
        "        \n",
        "        bin_b = bin(b)[2:]\n",
        "        bin_b = list(str('0')*(L+1 - len(bin_b)) + bin_b) #sign extension\n",
        "        bin_b = np.asarray(bin_b[::-1],dtype = int) #converting to numpy array and reversing the string\n",
        "\n",
        "        \n",
        "        bin_c = bin(c)[2:]\n",
        "        bin_c = list(str('0')*(L+1 - len(bin_c)) + bin_c) #sign extension\n",
        "        bin_c = np.asarray(bin_c[::-1],dtype = int) #converting to numpy array and reversing the string\n",
        "        \n",
        "        \n",
        "        \n",
        "        x[i,:,0] = bin_a\n",
        "        x[i,:,1] = bin_b\n",
        "        y[i]     = bin_c\n",
        "        \n",
        "    x = torch.tensor(x, dtype=torch.int)\n",
        "    y = torch.tensor(y, dtype=torch.int)\n",
        "\n",
        "    return x.float(),y #returning float as that is what is used in forward pass"
      ],
      "metadata": {
        "id": "FlXAZSv99GET"
      },
      "execution_count": 58,
      "outputs": []
    },
    {
      "cell_type": "code",
      "source": [
        "def cross_entropy(pred, target): #custom cross entropy loss function as normal Pytorch doesn't support\n",
        "    return (1/2)*(torch.mean(-torch.sum(target * torch.log(pred))) + torch.mean(-torch.sum((1-target) * torch.log(1-pred))))"
      ],
      "metadata": {
        "id": "6wkGt-tQ9M2Z"
      },
      "execution_count": 59,
      "outputs": []
    },
    {
      "cell_type": "code",
      "source": [
        "class Binary_LSTM(nn.Module):\n",
        "    def __init__(self, input_dim=2, hidden_dim=5, num_layers=1):\n",
        "        super(Binary_LSTM, self).__init__()\n",
        "        self.hidden_dim = hidden_dim\n",
        "        self.num_layers = num_layers\n",
        "        self.lstm = nn.LSTM(input_dim, hidden_dim, num_layers, batch_first=True,bidirectional=False)\n",
        "        self.fc = nn.Linear(hidden_dim,1) #as size of the output is 1\n",
        "        self.sigmoid = nn.Sigmoid()\n",
        "    \n",
        "    def forward(self,x): \n",
        "        h0 = torch.zeros(self.num_layers, x.size(0), self.hidden_dim).requires_grad_().to(device)\n",
        "        c0 = torch.zeros(self.num_layers, x.size(0), self.hidden_dim).requires_grad_().to(device)\n",
        "        out, (hn, cn) = self.lstm(x, (h0.detach(), c0.detach()))\n",
        "        pred   = self.sigmoid(self.fc(out)) #output at every time step\n",
        "        return pred"
      ],
      "metadata": {
        "id": "582z6cYG9Q9E"
      },
      "execution_count": 60,
      "outputs": []
    },
    {
      "cell_type": "code",
      "source": [
        "from torch import optim\n",
        "loss_func = nn.CrossEntropyLoss()\n",
        "model = Binary_LSTM().to(device)\n",
        "optimizer = optim.Adam(model.parameters(), lr = 0.001)"
      ],
      "metadata": {
        "id": "z-QbmuDC-D72"
      },
      "execution_count": 61,
      "outputs": []
    },
    {
      "cell_type": "code",
      "source": [
        "def Train_sum(model,L,optimizer,loss_func,loss_flag,N_iter_train = N_iter_train): #loss_flag = 1 for MSE and 0 for CE\n",
        "    \n",
        "    model.train() #setting the model in training mode\n",
        "    #initializing the total training loss and total correct training predictions to 0\n",
        "    train_loss    = 0\n",
        "    train_correct = 0 #correct predictions made\n",
        "    \n",
        "    train_length = batch_size*N_iter_train\n",
        "    \n",
        "    for i in range(N_iter_train):\n",
        "        \n",
        "        x,y = binary_sequence_generator(L)\n",
        "        x = x.to(device)\n",
        "        y = y.to(device)\n",
        "        \n",
        "        pred = model(x) #prediction using the input data (explicitly make it float)\n",
        "        \n",
        "        if(loss_flag == 0): #CE Loss\n",
        "            \n",
        "            loss = cross_entropy(pred,y.view(pred.size()))\n",
        "        \n",
        "        elif(loss_flag == 1): #MSE Loss\n",
        "            \n",
        "            loss = loss_func(pred,y.view(pred.size()).float()) #converting to float for MSE loss\n",
        "        \n",
        "        optimizer.zero_grad() #zeroing out the gradients before backprop\n",
        "        loss.backward()       #backprop from the loss\n",
        "        optimizer.step()      #updating the weights\n",
        "        \n",
        "        \n",
        "        #prediction made by LSTM\n",
        "        threshold = torch.Tensor([0.5])\n",
        "        pred_y = (pred > threshold).float() * 1\n",
        "        \n",
        "        #convert to base 10 equivalent\n",
        "        pred_y = pred_y.numpy()[:,:,0]\n",
        "        pred_y = pred_y.dot(2**np.arange(pred_y.shape[1]))\n",
        "\n",
        "        y_10 = y.numpy()\n",
        "        y_10 = y_10.dot(2**np.arange(y_10.shape[1]))\n",
        "        \n",
        "        #Adding this loss to  training loss and computing correct predictions\n",
        "        train_loss    += loss\n",
        "        train_correct += np.sum(pred_y == y_10) #as subtraction will result in 0 for correct pred, bitwise accuracy\n",
        "       \n",
        "    #Computing training accuracy \n",
        "    train_loss = train_loss/train_length\n",
        "    train_correct /= train_length #training accuracy \n",
        "    \n",
        "    return train_loss.detach().cpu().numpy(), train_correct #returning loss and accuracy "
      ],
      "metadata": {
        "id": "W9nzT3QB-H_K"
      },
      "execution_count": 62,
      "outputs": []
    },
    {
      "cell_type": "code",
      "source": [
        "def Test_sum(model,L,loss_func,loss_flag,N_iter_test = N_iter_test): #as we're supposed to test on 100 samples\n",
        "    \n",
        "    model.eval()  #setting the model in eval/test mode\n",
        "    \n",
        "    #initializing the total test loss and total correct test predictions to 0\n",
        "    test_loss    = 0\n",
        "    test_correct = 0 #correct predictions made\n",
        "    test_length = batch_size*N_iter_test\n",
        "    \n",
        "    #switching off the gradient for eval\n",
        "    with torch.no_grad():\n",
        "        \n",
        "        for i in range(N_iter_test):\n",
        "        \n",
        "            x,y = binary_sequence_generator(L)\n",
        "            x = x.to(device)\n",
        "            y = y.to(device)\n",
        "        \n",
        "            pred = model(x.float()) #prediction using the input data\n",
        "        \n",
        "            if(loss_flag == 0): #CE Loss\n",
        "            \n",
        "                loss = cross_entropy(pred,y.view(pred.size()))\n",
        "        \n",
        "            elif(loss_flag == 1): #MSE Loss\n",
        "            \n",
        "                loss = loss_func(pred,y.view(pred.size()).float()) #converting to float for MSE loss\n",
        "                \n",
        "                          \n",
        "            #prediction made by LSTM\n",
        "            threshold = torch.Tensor([0.5])\n",
        "            pred_y = (pred > threshold).float() * 1\n",
        "            \n",
        "            #convert to base 10 equivalent\n",
        "            pred_y = pred_y.numpy()[:,:,0]\n",
        "            pred_y = pred_y.dot(2**np.arange(pred_y.shape[1]))\n",
        "\n",
        "            y_10 = y.numpy()\n",
        "            y_10 = y_10.dot(2**np.arange(y_10.shape[1]))\n",
        "    \n",
        "            #Adding this loss to  testing loss and computing correct predictions\n",
        "            test_loss    += loss\n",
        "            test_correct += np.sum(pred_y==y_10) #as subtraction will result in 0 for correct pred\n",
        "        \n",
        "    #Computing prediction accuracy \n",
        "    test_loss = test_loss/test_length\n",
        "    test_correct /= test_length #prediction accuracy \n",
        "    \n",
        "    return test_loss.detach().cpu().numpy(), test_correct #returning loss and accuracy "
      ],
      "metadata": {
        "id": "FaR9fh4n-SjO"
      },
      "execution_count": 63,
      "outputs": []
    },
    {
      "cell_type": "code",
      "source": [
        "#initialising the lists\n",
        "train_losses   = []\n",
        "test_losses    = []\n",
        "train_accuracy = []\n",
        "test_accuracy  = []\n",
        "loss_flag = 0\n",
        "\n",
        "for epoch in range(1, N_epochs+1):\n",
        "       print(epoch, '/', N_epochs)\n",
        "\n",
        "       #train the model\n",
        "       loss,accuracy = Train_sum(model,L,optimizer,loss_func,loss_flag,N_iter_train = N_iter_train)\n",
        "       train_losses.append(loss)\n",
        "       train_accuracy.append(accuracy)\n",
        "       print('Train loss for Epoch ',epoch,': ',loss,' | ', 'Train accuracy for Epoch ',epoch, ': ',accuracy)\n",
        "\n",
        "       #test the model\n",
        "       loss,accuracy = Test_sum(model,L,loss_func,loss_flag,N_iter_test = N_iter_test)\n",
        "       test_losses.append(loss)\n",
        "       test_accuracy.append(accuracy)\n",
        "       print('Test loss for Epoch ',epoch,': ',loss, ' | ', 'Test accuracy for Epoch ',epoch, ': ',accuracy)\n",
        "\n",
        "#Plotting the Loss and the accuracy curves\n",
        "fig, (ax1, ax2) = plt.subplots(1, 2)\n",
        "ax1.plot(np.asfarray(train_losses),label = 'Train Loss') #converting to float array\n",
        "ax1.plot(np.asfarray(test_losses),label = 'Validation Loss') \n",
        "ax1.set(xlabel='Epochs', ylabel='Normalised Loss')\n",
        "ax1.set_title('Training and Validation error')\n",
        "\n",
        "ax2.plot(np.asfarray(train_accuracy),label = 'Training Accuracy')\n",
        "ax2.plot(np.asfarray(test_accuracy),label = 'Testing Accuracy')\n",
        "ax2.set(xlabel='Epochs', ylabel='Accuracy')\n",
        "ax2.set_title('Training and Validation accuracy')\n",
        "ax2.legend()\n",
        "fig.tight_layout()"
      ],
      "metadata": {
        "colab": {
          "base_uri": "https://localhost:8080/",
          "height": 818
        },
        "id": "QPi5y-AJ-aKz",
        "outputId": "9c4d5200-a684-4c31-f816-7dc88802fb0b"
      },
      "execution_count": 64,
      "outputs": [
        {
          "output_type": "stream",
          "name": "stdout",
          "text": [
            "1 / 10\n",
            "Train loss for Epoch  1 :  3.820615  |  Train accuracy for Epoch  1 :  0.00172\n",
            "Test loss for Epoch  1 :  3.8069296  |  Test accuracy for Epoch  1 :  0.00025\n",
            "2 / 10\n",
            "Train loss for Epoch  2 :  3.7838008  |  Train accuracy for Epoch  2 :  0.0018\n",
            "Test loss for Epoch  2 :  3.7308614  |  Test accuracy for Epoch  2 :  0.00475\n",
            "3 / 10\n",
            "Train loss for Epoch  3 :  3.3522274  |  Train accuracy for Epoch  3 :  0.02548\n",
            "Test loss for Epoch  3 :  2.7577474  |  Test accuracy for Epoch  3 :  0.12575\n",
            "4 / 10\n",
            "Train loss for Epoch  4 :  2.2501662  |  Train accuracy for Epoch  4 :  0.70484\n",
            "Test loss for Epoch  4 :  1.8127952  |  Test accuracy for Epoch  4 :  0.99\n",
            "5 / 10\n",
            "Train loss for Epoch  5 :  1.4532806  |  Train accuracy for Epoch  5 :  0.9954\n",
            "Test loss for Epoch  5 :  1.1328025  |  Test accuracy for Epoch  5 :  0.99975\n",
            "6 / 10\n",
            "Train loss for Epoch  6 :  0.9191309  |  Train accuracy for Epoch  6 :  0.99996\n",
            "Test loss for Epoch  6 :  0.74274343  |  Test accuracy for Epoch  6 :  1.0\n",
            "7 / 10\n",
            "Train loss for Epoch  7 :  0.6284493  |  Train accuracy for Epoch  7 :  1.0\n",
            "Test loss for Epoch  7 :  0.53324753  |  Test accuracy for Epoch  7 :  1.0\n",
            "8 / 10\n",
            "Train loss for Epoch  8 :  0.46047288  |  Train accuracy for Epoch  8 :  1.0\n",
            "Test loss for Epoch  8 :  0.39775005  |  Test accuracy for Epoch  8 :  1.0\n",
            "9 / 10\n",
            "Train loss for Epoch  9 :  0.3521427  |  Train accuracy for Epoch  9 :  1.0\n",
            "Test loss for Epoch  9 :  0.30962032  |  Test accuracy for Epoch  9 :  1.0\n",
            "10 / 10\n",
            "Train loss for Epoch  10 :  0.27509204  |  Train accuracy for Epoch  10 :  1.0\n",
            "Test loss for Epoch  10 :  0.24194752  |  Test accuracy for Epoch  10 :  1.0\n"
          ]
        },
        {
          "output_type": "display_data",
          "data": {
            "text/plain": [
              "<Figure size 432x288 with 2 Axes>"
            ],
            "image/png": "[encoded data removed]"
          },
          "metadata": {
            "needs_background": "light"
          }
        }
      ]
    },
    {
      "cell_type": "code",
      "source": [
        "def Check_binary_sequence(model,loss_flag,lossfn,N_iter_check):\n",
        "    \n",
        "    model.eval()\n",
        "    \n",
        "    test_accuracies = []\n",
        "    \n",
        "    for L in range(1,21): #iterating through L in the required range\n",
        "    \n",
        "        #initializing the total test loss and total correct test predictions to 0\n",
        "        test_loss    = 0\n",
        "        test_correct = 0 #correct predictions made\n",
        "        test_length = N_iter_check\n",
        "    \n",
        "        #switching off the gradient for eval\n",
        "        with torch.no_grad():\n",
        "            \n",
        "        \n",
        "            x,y = binary_sequence_generator(L,batch_size = N_iter_check)\n",
        "            x = x.to(device)\n",
        "            y = y.to(device)\n",
        "        \n",
        "            pred = model(x.float()) #prediction using the input data\n",
        "        \n",
        "            if(loss_flag == 0): #CE Loss\n",
        "            \n",
        "                loss = cross_entropy(pred,y.view(pred.size()))\n",
        "        \n",
        "            elif(loss_flag == 1): #MSE Loss\n",
        "            \n",
        "                loss = lossfn(pred,y.view(pred.size()).float()) #converting to float for MSE loss\n",
        "            \n",
        "            #prediction made by LSTM\n",
        "            threshold = torch.Tensor([0.5])\n",
        "            pred_y = (pred > threshold).float() * 1\n",
        "            \n",
        "            #convert to base 10 equivalent\n",
        "            pred_y = pred_y.numpy()[:,:,0]\n",
        "            pred_y = pred_y.dot(2**np.arange(pred_y.shape[1]))\n",
        "\n",
        "            y_10 = y.numpy()\n",
        "            y_10 = y_10.dot(2**np.arange(y_10.shape[1]))\n",
        "    \n",
        "            #Adding this loss to  testing loss and computing correct predictions\n",
        "            test_loss    += loss\n",
        "            test_correct += np.sum(pred_y==y_10) #as subtraction will result in 0 for correct pred\n",
        "        \n",
        "            #Computing prediction accuracy \n",
        "    \n",
        "            test_correct /= test_length #prediction accuracy\n",
        "            \n",
        "            test_accuracies.append(test_correct)\n",
        "            \n",
        "    \n",
        "    #plotting test accuracies vs L\n",
        "    \n",
        "    plt.bar(np.arange(1,21),test_accuracies)\n",
        "    plt.xlabel('L')\n",
        "    plt.ylabel('Accuracy')\n",
        "    plt.ylim(0,1) #as accuracy is between 0 and 1\n",
        "    plt.grid()\n",
        "    plt.legend()\n",
        "    plt.title('Prediction Accuracy vs Length')\n",
        "    plt.show()\n",
        "    \n",
        "    print(f'Prediction Accuracies : {test_accuracies}')"
      ],
      "metadata": {
        "id": "ZzvUUMTYHVko"
      },
      "execution_count": 65,
      "outputs": []
    },
    {
      "cell_type": "code",
      "source": [
        "Check_binary_sequence(model,loss_flag,loss_func,N_iter_check)"
      ],
      "metadata": {
        "colab": {
          "base_uri": "https://localhost:8080/",
          "height": 330
        },
        "id": "YKBn5yFZHZaS",
        "outputId": "0e0348ff-937c-4561-fd3c-e0eecb9d1392"
      },
      "execution_count": 66,
      "outputs": [
        {
          "output_type": "stream",
          "name": "stderr",
          "text": [
            "WARNING:matplotlib.legend:No handles with labels found to put in legend.\n"
          ]
        },
        {
          "output_type": "display_data",
          "data": {
            "text/plain": [
              "<Figure size 432x288 with 1 Axes>"
            ],
            "image/png": "[encoded data removed]"
          },
          "metadata": {
            "needs_background": "light"
          }
        },
        {
          "output_type": "stream",
          "name": "stdout",
          "text": [
            "Prediction Accuracies : [1.0, 1.0, 1.0, 1.0, 1.0, 1.0, 1.0, 1.0, 1.0, 1.0, 1.0, 1.0, 1.0, 1.0, 1.0, 1.0, 1.0, 1.0, 1.0, 1.0]\n"
          ]
        }
      ]
    }
  ]
}