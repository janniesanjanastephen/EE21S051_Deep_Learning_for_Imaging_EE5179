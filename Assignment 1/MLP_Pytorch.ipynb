{
  "cells": [
    {
      "cell_type": "code",
      "execution_count": 29,
      "metadata": {
        "id": "oyGGrxo6rXZB"
      },
      "outputs": [],
      "source": [
        "import torch\n",
        "import torchvision\n",
        "import torch.nn as nn \n",
        "import torch.nn.functional as F\n",
        "from torch.utils.data import DataLoader\n",
        "from torchvision import datasets, transforms\n",
        "import torchvision.transforms as transforms\n",
        "import matplotlib.pyplot as plt\n",
        "import numpy as np\n",
        "import pandas as pd\n",
        "from sklearn.metrics import confusion_matrix\n",
        "%matplotlib inline"
      ]
    },
    {
      "cell_type": "code",
      "execution_count": 46,
      "metadata": {
        "id": "UsFUjJfSsl5P"
      },
      "outputs": [],
      "source": [
        "Transform = transforms.ToTensor()\n",
        "train = datasets.MNIST(root='../DATA',train = True, download = True, transform = Transform)\n",
        "test = datasets.MNIST(root='../DATA',train = False, download = True, transform = Transform)"
      ]
    },
    {
      "cell_type": "code",
      "execution_count": 31,
      "metadata": {
        "colab": {
          "base_uri": "https://localhost:8080/",
          "height": 317
        },
        "id": "ucx0uvt2tgxT",
        "outputId": "24b0ff01-4642-4abe-b242-fd48bc38b75a"
      },
      "outputs": [
        {
          "output_type": "stream",
          "name": "stdout",
          "text": [
            "Shape: torch.Size([1, 28, 28]) \n",
            "Label: 5\n"
          ]
        },
        {
          "output_type": "execute_result",
          "data": {
            "text/plain": [
              "<matplotlib.image.AxesImage at 0x7f807975e1d0>"
            ]
          },
          "metadata": {},
          "execution_count": 31
        },
        {
          "output_type": "display_data",
          "data": {
            "text/plain": [
              "<Figure size 432x288 with 1 Axes>"
            ],
            "image/png": "[encoded data removed]"
          },
          "metadata": {
            "needs_background": "light"
          }
        }
      ],
      "source": [
        "image, label = train[0]\n",
        "print('Shape:',image.shape,'\\nLabel:',label)\n",
        "plt.imshow(image.reshape((28,28)),cmap='gray')"
      ]
    },
    {
      "cell_type": "code",
      "execution_count": 32,
      "metadata": {
        "id": "dk9SYOLCy5pK"
      },
      "outputs": [],
      "source": [
        "train_loader = DataLoader (train, batch_size = 64, shuffle=True)\n",
        "test_loader = DataLoader (test, batch_size = 10000, shuffle=False)"
      ]
    },
    {
      "cell_type": "code",
      "execution_count": 33,
      "metadata": {
        "id": "5uVxNqGLtpx3"
      },
      "outputs": [],
      "source": [
        "class MLP(nn.Module):\n",
        "     def __init__(self, input_size = 784, hidden_layers = [500,250,100], num_classes = 10):\n",
        "         super().__init__()\n",
        "         self.d1 = nn.Linear(input_size,hidden_layers[0])\n",
        "         self.d2 = nn.Linear(hidden_layers[0],hidden_layers[1])\n",
        "         self.d3 = nn.Linear(hidden_layers[1],hidden_layers[2])\n",
        "         self.d4 = nn.Linear(hidden_layers[2],num_classes)\n",
        "     def forward(self, X):\n",
        "         X = F.relu(self.d1(X))\n",
        "         X = F.relu(self.d2(X)) \n",
        "         X = F.relu(self.d3(X))\n",
        "         X = self.d4(X) \n",
        "         return F.log_softmax(X,dim=1)"
      ]
    },
    {
      "cell_type": "code",
      "execution_count": 34,
      "metadata": {
        "colab": {
          "base_uri": "https://localhost:8080/",
          "height": 0
        },
        "id": "F7ARgsUHunsh",
        "outputId": "8598ee19-270b-4615-df41-56b4254d273d"
      },
      "outputs": [
        {
          "output_type": "stream",
          "name": "stdout",
          "text": [
            "MLP(\n",
            "  (d1): Linear(in_features=784, out_features=500, bias=True)\n",
            "  (d2): Linear(in_features=500, out_features=250, bias=True)\n",
            "  (d3): Linear(in_features=250, out_features=100, bias=True)\n",
            "  (d4): Linear(in_features=100, out_features=10, bias=True)\n",
            ")\n"
          ]
        }
      ],
      "source": [
        "model = MLP()\n",
        "print(model)"
      ]
    },
    {
      "cell_type": "code",
      "execution_count": 35,
      "metadata": {
        "id": "tIGfchQGu_Xr"
      },
      "outputs": [],
      "source": [
        "criterion = nn.CrossEntropyLoss()\n",
        "optimizer = torch.optim.Adam(model.parameters(),lr=0.01)"
      ]
    },
    {
      "cell_type": "code",
      "execution_count": 36,
      "metadata": {
        "colab": {
          "base_uri": "https://localhost:8080/",
          "height": 0
        },
        "id": "fSYFN1Wm0VKc",
        "outputId": "4e9dcc99-f3eb-432a-e39b-26a5c45830cb"
      },
      "outputs": [
        {
          "output_type": "stream",
          "name": "stdout",
          "text": [
            "Initial Batch shape:  torch.Size([64, 1, 28, 28])\n",
            "Batch shape after flattening torch.Size([64, 784])\n"
          ]
        }
      ],
      "source": [
        "for images, labels in train_loader:\n",
        "  print('Initial Batch shape: ', images.size())\n",
        "  break\n",
        "print('Batch shape after flattening', images.view(64,-1).size())"
      ]
    },
    {
      "cell_type": "code",
      "execution_count": 37,
      "metadata": {
        "id": "Z2jltmIs0rw6"
      },
      "outputs": [],
      "source": [
        "train_loss = []\n",
        "test_loss = []\n",
        "train_correct = []\n",
        "test_correct = []\n",
        "\n",
        "for i in range(15):\n",
        "  train_corr = 0\n",
        "  test_corr = 0\n",
        "\n",
        "  for b, (X_train, y_train) in enumerate(train_loader):\n",
        "    b+=1\n",
        "\n",
        "    #Apply model\n",
        "    X_train = X_train.reshape(X_train.shape[0], -1)\n",
        "    y_pred = model(X_train.view(-1,28*28))\n",
        "    loss = criterion(y_pred, y_train)\n",
        "\n",
        "    #Calculate #correct predictions\n",
        "    predicted = torch.max(y_pred.data,1)[1]\n",
        "    batch_corr = (predicted == y_train).sum()\n",
        "    train_corr +=batch_corr\n",
        "\n",
        "    #Update parameters\n",
        "    optimizer.zero_grad()\n",
        "    loss.backward()\n",
        "    optimizer.step()\n",
        "    \n",
        "    if b%200==0:\n",
        "      train_loss.append(loss)\n",
        "    train_correct.append(train_corr)\n",
        "\n",
        "    #Run testing\n",
        "  with torch.no_grad():\n",
        "    for b, (X_test, y_test) in enumerate(test_loader):\n",
        "       #Apply model\n",
        "       y_val = model(X_test.view(10000,-1))\n",
        "\n",
        "       #Compute correct predictions\n",
        "       predicted = torch.max(y_val.data,1)[1]\n",
        "       test_corr += (predicted == y_test).sum()\n",
        "       #Update test loss and accuracy for each epoch\n",
        "       loss = criterion(y_val, y_test)\n",
        "       if b%100==0:\n",
        "         test_loss.append(loss)\n",
        "       test_correct.append(test_corr)"
      ]
    },
    {
      "cell_type": "code",
      "execution_count": 38,
      "metadata": {
        "colab": {
          "base_uri": "https://localhost:8080/",
          "height": 295
        },
        "id": "kL49Q0x0jDCe",
        "outputId": "f5a33a52-7d79-4d08-b52b-527ca143dafa"
      },
      "outputs": [
        {
          "output_type": "display_data",
          "data": {
            "text/plain": [
              "<Figure size 432x288 with 1 Axes>"
            ],
            "image/png": "[encoded data removed]"
          },
          "metadata": {
            "needs_background": "light"
          }
        }
      ],
      "source": [
        "losses= [loss.detach().numpy() for loss in train_loss]\n",
        "plt.plot(losses)\n",
        "plt.ylabel('cost')\n",
        "plt.xlabel('iterations')\n",
        "plt.title(\"Learning rate = 0.01\")\n",
        "plt.show()"
      ]
    },
    {
      "cell_type": "code",
      "execution_count": 39,
      "metadata": {
        "colab": {
          "base_uri": "https://localhost:8080/",
          "height": 295
        },
        "id": "3DvYYXCO5Onj",
        "outputId": "378b90e4-cd00-4527-aa57-e4296b292dd6"
      },
      "outputs": [
        {
          "output_type": "display_data",
          "data": {
            "text/plain": [
              "<Figure size 432x288 with 1 Axes>"
            ],
            "image/png": "[encoded data removed]"
          },
          "metadata": {
            "needs_background": "light"
          }
        }
      ],
      "source": [
        "losses= [loss.detach().numpy() for loss in test_loss]\n",
        "plt.plot(losses)\n",
        "plt.ylabel('cost')\n",
        "plt.xlabel('iterations')\n",
        "plt.title(\"Learning rate = 0.01\")\n",
        "plt.show()"
      ]
    },
    {
      "cell_type": "code",
      "source": [
        "(X_test, y_test) in (test_loader)\n",
        "y_val = model(X_test.view(10000,-1))\n",
        "predicted = torch.max(y_val.data,1)[1]\n",
        "test_corr = (predicted == y_test).sum()\n",
        "loss = criterion(y_val, y_test)"
      ],
      "metadata": {
        "id": "w8G76Kboh_kH"
      },
      "execution_count": 40,
      "outputs": []
    },
    {
      "cell_type": "code",
      "source": [
        "print(loss)"
      ],
      "metadata": {
        "colab": {
          "base_uri": "https://localhost:8080/",
          "height": 0
        },
        "id": "1nUbDuKSiTRK",
        "outputId": "40f39409-de33-4404-a748-6b81a8556f67"
      },
      "execution_count": 41,
      "outputs": [
        {
          "output_type": "stream",
          "name": "stdout",
          "text": [
            "tensor(0.1813, grad_fn=<NllLossBackward0>)\n"
          ]
        }
      ]
    },
    {
      "cell_type": "code",
      "source": [
        "print((test_corr.detach().numpy())/10000)"
      ],
      "metadata": {
        "colab": {
          "base_uri": "https://localhost:8080/",
          "height": 0
        },
        "id": "mtexoDb0iXzI",
        "outputId": "f5984ca1-0a74-4d0e-a7ca-6040030eac04"
      },
      "execution_count": 44,
      "outputs": [
        {
          "output_type": "stream",
          "name": "stdout",
          "text": [
            "0.9705\n"
          ]
        }
      ]
    }
  ],
  "metadata": {
    "accelerator": "GPU",
    "colab": {
      "name": "MLP Pytorch.ipynb",
      "provenance": []
    },
    "gpuClass": "standard",
    "kernelspec": {
      "display_name": "Python 3",
      "name": "python3"
    },
    "language_info": {
      "name": "python"
    }
  },
  "nbformat": 4,
  "nbformat_minor": 0
}