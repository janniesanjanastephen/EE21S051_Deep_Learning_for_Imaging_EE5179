{
  "cells": [
    {
      "cell_type": "markdown",
      "source": [
        "# Back Propagation from Scratch\n",
        "#### Imports"
      ],
      "metadata": {
        "id": "zjoC1CEI2sJT"
      },
      "id": "zjoC1CEI2sJT"
    },
    {
      "cell_type": "code",
      "execution_count": null,
      "id": "69ae1489",
      "metadata": {
        "id": "69ae1489"
      },
      "outputs": [],
      "source": [
        "import numpy as np\n",
        "import matplotlib.pyplot as plt\n",
        "import torch\n",
        "import torch.nn as nn \n",
        "import torchvision\n",
        "import torchvision.transforms as transforms\n",
        "from sklearn import preprocessing"
      ]
    },
    {
      "cell_type": "code",
      "execution_count": null,
      "id": "cb6203cf",
      "metadata": {
        "id": "cb6203cf"
      },
      "outputs": [],
      "source": [
        "train_dataset = torchvision.datasets.MNIST(root='./data', train=True, transform=transforms.ToTensor(),  download=True)\n",
        "test_dataset = torchvision.datasets.MNIST(root='./data', train=False, transform=transforms.ToTensor())"
      ]
    },
    {
      "cell_type": "markdown",
      "source": [
        "#### Relavent functions"
      ],
      "metadata": {
        "id": "Ya10-EhK3aI6"
      },
      "id": "Ya10-EhK3aI6"
    },
    {
      "cell_type": "code",
      "execution_count": null,
      "id": "c0dc432b",
      "metadata": {
        "id": "c0dc432b"
      },
      "outputs": [],
      "source": [
        "def convert_to_onehot(labels,num_classes):\n",
        "    output = np.eye(num_classes)[np.array(labels).reshape(-1)]\n",
        "    return output.reshape(list(np.shape(labels))+[num_classes])"
      ]
    },
    {
      "cell_type": "markdown",
      "source": [
        "We use non-linear activation functions sigmoid, ReLU, tanh and linear activation function softmax here."
      ],
      "metadata": {
        "id": "v6mfKP-L3g7Z"
      },
      "id": "v6mfKP-L3g7Z"
    },
    {
      "cell_type": "code",
      "execution_count": null,
      "id": "df3e3a27",
      "metadata": {
        "id": "df3e3a27"
      },
      "outputs": [],
      "source": [
        "def sigmoid(x):\n",
        "    return 1/(1+np.exp(-x))\n",
        "\n",
        "def relu(x):\n",
        "    return np.maximum(0, x)\n",
        "\n",
        "def softmax(x):\n",
        "    return np.exp(x)/sum(np.exp(x))\n",
        "\n",
        "def tanh(x):\n",
        "    y=(np.exp(x)-np.exp(-x))/(np.exp(x)+np.exp(-x))\n",
        "    return y"
      ]
    },
    {
      "cell_type": "code",
      "execution_count": null,
      "id": "713f4b7c",
      "metadata": {
        "id": "713f4b7c"
      },
      "outputs": [],
      "source": [
        "def sigmoid_derivative(x):\n",
        "    return sigmoid(x) * (1- sigmoid(x))\n",
        "\n",
        "def relu_derivative(x):\n",
        "    return x>0\n",
        "\n",
        "def softmax_derivative(x):\n",
        "    return softmax(x)*(1-softmax(x))\n",
        "\n",
        "def tanh_derivative(x):\n",
        "    y=tanh(x)\n",
        "    return (1-y**2)"
      ]
    },
    {
      "cell_type": "markdown",
      "source": [
        "We initialise weights of the weight matrices using Glorot Initialization"
      ],
      "metadata": {
        "id": "YKLmYmPL3wCa"
      },
      "id": "YKLmYmPL3wCa"
    },
    {
      "cell_type": "code",
      "execution_count": null,
      "id": "3bccfe5d",
      "metadata": {
        "id": "3bccfe5d"
      },
      "outputs": [],
      "source": [
        "def initialize_weights(No,Ni):\n",
        "    M=np.sqrt(6/(Ni+No))\n",
        "    weights=np.asarray(np.random.uniform(-M, M, (No, Ni)), dtype=np.float64)\n",
        "    biases  = np.zeros((No,1))\n",
        "    return weights,biases"
      ]
    },
    {
      "cell_type": "code",
      "execution_count": null,
      "id": "5630ea11",
      "metadata": {
        "id": "5630ea11"
      },
      "outputs": [],
      "source": [
        "def initialize_parameters(layers_dims):\n",
        "    parameters = {}\n",
        "    for l in range(1, len(layers_dims)):\n",
        "        parameters['W' + str(l)], parameters['b' + str(l)] = initialize_weights(layers_dims[l],layers_dims[l-1])\n",
        "    return parameters"
      ]
    },
    {
      "cell_type": "markdown",
      "source": [
        "#### Forward Propagation"
      ],
      "metadata": {
        "id": "Nx2cA3wo4KzP"
      },
      "id": "Nx2cA3wo4KzP"
    },
    {
      "cell_type": "code",
      "source": [
        "def linear_activation_forward(A_prev, W, b, activation):\n",
        "\n",
        "    Z = np.dot(W,A_prev) + b\n",
        "    cache = (A_prev, W, b)\n",
        "    linear_cache = A_prev, W, b\n",
        "\n",
        "    if activation == \"sigmoid\":\n",
        "        A = sigmoid(Z) # This \"activation_cache\" contains \"Z\"\n",
        "    \n",
        "    elif activation == \"relu\":\n",
        "        A = relu(Z) # This \"activation_cache\" contains \"Z\"\n",
        "\n",
        "    elif activation == \"tanh\":\n",
        "        A = tanh(Z) # This \"activation_cache\" contains \"Z\"\n",
        "    \n",
        "    elif activation == \"softmax\":\n",
        "        A = softmax(Z) # This \"activation_cache\" contains \"Z\"\n",
        "\n",
        "    activation_cache = Z\n",
        "    cache = (linear_cache, activation_cache)\n",
        "\n",
        "    return A, cache\n"
      ],
      "metadata": {
        "id": "VbRbp2yALBFO"
      },
      "id": "VbRbp2yALBFO",
      "execution_count": null,
      "outputs": []
    },
    {
      "cell_type": "code",
      "execution_count": null,
      "id": "13beabbe",
      "metadata": {
        "id": "13beabbe"
      },
      "outputs": [],
      "source": [
        "def forward_propagation(X,parameters):\n",
        "    caches = []\n",
        "    A = X\n",
        "    L = len(parameters) // 2                  # number of layers in the neural network\n",
        "\n",
        "    for l in range(1, L):\n",
        "        A_prev = A \n",
        "        A, cache = linear_activation_forward(A_prev, parameters['W' + str(l)], parameters['b' + str(l)], \"relu\")\n",
        "        caches.append(cache)\n",
        "\n",
        "    AL, cache = linear_activation_forward(A, parameters['W' + str(L)], parameters['b' + str(L)], \"softmax\")\n",
        "    caches.append(cache)\n",
        "    return AL, caches"
      ]
    },
    {
      "cell_type": "markdown",
      "source": [
        "#### Cost funtion\n",
        "The cross entropy loss is used here"
      ],
      "metadata": {
        "id": "txSfs23k4RSv"
      },
      "id": "txSfs23k4RSv"
    },
    {
      "cell_type": "code",
      "execution_count": null,
      "id": "30c7fa71",
      "metadata": {
        "id": "30c7fa71"
      },
      "outputs": [],
      "source": [
        "def compute_cost(AL, Y):    \n",
        "    #A is predicted\n",
        "    #Y is actual\n",
        "    m = Y.shape[1] \n",
        "    cost = (-1/m) * np.sum(np.multiply(Y, np.log(AL)) + np.multiply((1-Y), np.log(1-AL)))\n",
        "    return cost"
      ]
    },
    {
      "cell_type": "markdown",
      "source": [
        "#### Back propagation"
      ],
      "metadata": {
        "id": "AeyBsE9x4Yoo"
      },
      "id": "AeyBsE9x4Yoo"
    },
    {
      "cell_type": "code",
      "execution_count": null,
      "id": "0b00a513",
      "metadata": {
        "id": "0b00a513"
      },
      "outputs": [],
      "source": [
        "def linear_backward(dZ, cache):\n",
        "\n",
        "    A_prev, W, b = cache\n",
        "    m = A_prev.shape[1]\n",
        "\n",
        "    dW = (1/m) * np.dot(dZ, A_prev.T)\n",
        "    db = (1/m) * np.sum(dZ, axis=1, keepdims=True)\n",
        "    dA_prev = np.dot(W.T,dZ)\n",
        "    \n",
        "    return dA_prev, dW, db"
      ]
    },
    {
      "cell_type": "code",
      "source": [
        "def linear_activation_backward(dZ, dA, cache, activation):\n",
        "\n",
        "    linear_cache, activation_cache = cache\n",
        "    Z = activation_cache\n",
        "    if activation == \"relu\":\n",
        "        dZ = np.multiply(dA, relu_derivative(Z))\n",
        "        \n",
        "    elif activation == \"sigmoid\":\n",
        "        dZ = np.multiply(dA, sigmoid_derivative(Z))\n",
        "\n",
        "    elif activation == \"tanh\":\n",
        "        dZ = np.multiply(dA, tanh_derivative(Z))\n",
        "    \n",
        "    dA_prev, dW, db = linear_backward(dZ, linear_cache)\n",
        "    \n",
        "    return dA_prev, dW, db"
      ],
      "metadata": {
        "id": "uNnW1o3kMhiu"
      },
      "id": "uNnW1o3kMhiu",
      "execution_count": null,
      "outputs": []
    },
    {
      "cell_type": "code",
      "source": [
        "def compute_grads(AL, Y, caches):\n",
        "    grads = {}\n",
        "    L = len(caches) # the number of layers\n",
        "    m = AL.shape[1]\n",
        "    Y = Y.reshape(AL.shape) # after this line, Y is the same shape as AL\n",
        "\n",
        "    dAL = AL - Y \n",
        "    current_cache = caches[L-1] # Last Layer\n",
        "    grads[\"dA\" + str(L-1)], grads[\"dW\" + str(L)], grads[\"db\" + str(L)] = linear_activation_backward(dAL, dAL, current_cache, \"softmax\")\n",
        "    \n",
        "    # Loop from l=L-2 to l=0\n",
        "    for l in reversed(range(L-1)):\n",
        "        current_cache = caches[l]\n",
        "        dA_prev_temp, dW_temp, db_temp = linear_activation_backward((dAL - Y), grads[\"dA\" + str(l + 1)], current_cache, activation = \"relu\")\n",
        "        grads[\"dA\" + str(l)] = dA_prev_temp\n",
        "        grads[\"dW\" + str(l + 1)] = dW_temp\n",
        "        grads[\"db\" + str(l + 1)] = db_temp\n",
        "    return grads"
      ],
      "metadata": {
        "id": "EtpB_pHKOdjG"
      },
      "id": "EtpB_pHKOdjG",
      "execution_count": null,
      "outputs": []
    },
    {
      "cell_type": "code",
      "execution_count": null,
      "id": "d431ef48",
      "metadata": {
        "id": "d431ef48"
      },
      "outputs": [],
      "source": [
        "def update_parameters(parameters, grads, learning_rate):\n",
        "\n",
        "    L = len(parameters) // 2 # number of layers in the neural network\n",
        "\n",
        "    for l in range(L):\n",
        "        parameters[\"W\" + str(l+1)] = parameters[\"W\" + str(l+1)] - learning_rate * grads[\"dW\" + str(l+1)]\n",
        "        parameters[\"b\" + str(l+1)] = parameters[\"b\" + str(l+1)] - learning_rate * grads[\"db\" + str(l+1)]\n",
        "    return parameters"
      ]
    },
    {
      "cell_type": "markdown",
      "source": [
        "#### Evaluation metrics"
      ],
      "metadata": {
        "id": "fNAAIjPB4d19"
      },
      "id": "fNAAIjPB4d19"
    },
    {
      "cell_type": "code",
      "execution_count": null,
      "id": "1d6b794e",
      "metadata": {
        "id": "1d6b794e"
      },
      "outputs": [],
      "source": [
        "def find_accuracy(y_actual,y_pred):\n",
        "    accuracy = np.count_nonzero(np.argmax(y_pred,axis=0)==np.argmax(y_actual,axis=1))/y_actual.shape[0]\n",
        "    return accuracy"
      ]
    },
    {
      "cell_type": "code",
      "execution_count": null,
      "id": "338e2db1",
      "metadata": {
        "id": "338e2db1"
      },
      "outputs": [],
      "source": [
        "def predict(X,Y,parameters):\n",
        "    y_pred,cache=forward_propagation(X,parameters)\n",
        "    return y_pred"
      ]
    },
    {
      "cell_type": "markdown",
      "source": [
        "### Implemetation of the model"
      ],
      "metadata": {
        "id": "R_7JBA-b4hfr"
      },
      "id": "R_7JBA-b4hfr"
    },
    {
      "cell_type": "code",
      "source": [
        "input_size = 784 # 28x28\n",
        "layers_dim = [784,500,250,100,10]\n",
        "num_classes = 10\n",
        "num_epochs = 15\n",
        "batch_size = 64\n",
        "learning_rate = 0.01"
      ],
      "metadata": {
        "id": "f_0rN09dPD1Z"
      },
      "id": "f_0rN09dPD1Z",
      "execution_count": null,
      "outputs": []
    },
    {
      "cell_type": "code",
      "execution_count": null,
      "id": "329044fd",
      "metadata": {
        "id": "329044fd"
      },
      "outputs": [],
      "source": [
        "def model1(dataset,layers_dims,num_epochs):\n",
        "    m=len(dataset)\n",
        "    num_batches=m/batch_size\n",
        "    parameters=initialize_parameters(layers_dims)\n",
        "    costs=[]\n",
        "    acc=[]\n",
        "    for epoch in range(num_epochs):\n",
        "      \n",
        "        for i in range(int(num_batches)):\n",
        "            # Data loader\n",
        "            loader = torch.utils.data.DataLoader(dataset=dataset,batch_size = batch_size ,shuffle=True)\n",
        "            dataiter = iter(loader)\n",
        "            data = next(dataiter)\n",
        "            X,y = data\n",
        "            X=X.numpy()\n",
        "            y=y.numpy()\n",
        "            # Flatten the images\n",
        "            image_vector_size = 28*28\n",
        "            X = X.reshape(X.shape[0], image_vector_size)\n",
        "            y_one_hot=convert_to_onehot(y,10)\n",
        "            y_pred,cache=forward_propagation(X.T,parameters)\n",
        "            cost=compute_cost(y_pred,y_one_hot.T)\n",
        "            gradients=compute_grads(y_pred, y_one_hot.T,cache)\n",
        "            parameters=update_parameters(parameters,gradients,learning_rate)\n",
        "            if i%200==0:\n",
        "                print (f'Epoch [{epoch+1}/{num_epochs}], Step [{i+1}/{int(num_batches)}], Loss: {cost.item():.4f}')\n",
        "                costs.append(cost)\n",
        "                acc.append(find_accuracy(y_one_hot,y_pred))\n",
        "    return acc,costs,parameters"
      ]
    },
    {
      "cell_type": "code",
      "execution_count": null,
      "id": "3d99e5d8",
      "metadata": {
        "colab": {
          "base_uri": "https://localhost:8080/"
        },
        "id": "3d99e5d8",
        "outputId": "af974d4b-8acd-4e9c-a5e3-d95f97dabbd8"
      },
      "outputs": [
        {
          "output_type": "stream",
          "name": "stdout",
          "text": [
            "Epoch [1/15], Step [1/937], Loss: 3.3422\n",
            "Epoch [1/15], Step [201/937], Loss: 1.6048\n",
            "Epoch [1/15], Step [401/937], Loss: 0.8061\n",
            "Epoch [1/15], Step [601/937], Loss: 0.7561\n",
            "Epoch [1/15], Step [801/937], Loss: 0.4362\n",
            "Epoch [2/15], Step [1/937], Loss: 0.7366\n",
            "Epoch [2/15], Step [201/937], Loss: 0.9104\n",
            "Epoch [2/15], Step [401/937], Loss: 0.6356\n",
            "Epoch [2/15], Step [601/937], Loss: 0.6003\n",
            "Epoch [2/15], Step [801/937], Loss: 0.5701\n",
            "Epoch [3/15], Step [1/937], Loss: 0.4153\n",
            "Epoch [3/15], Step [201/937], Loss: 0.3466\n",
            "Epoch [3/15], Step [401/937], Loss: 0.5988\n",
            "Epoch [3/15], Step [601/937], Loss: 0.5083\n",
            "Epoch [3/15], Step [801/937], Loss: 0.2742\n",
            "Epoch [4/15], Step [1/937], Loss: 0.2608\n",
            "Epoch [4/15], Step [201/937], Loss: 0.4161\n",
            "Epoch [4/15], Step [401/937], Loss: 0.4532\n",
            "Epoch [4/15], Step [601/937], Loss: 0.2739\n",
            "Epoch [4/15], Step [801/937], Loss: 0.3328\n",
            "Epoch [5/15], Step [1/937], Loss: 0.4891\n",
            "Epoch [5/15], Step [201/937], Loss: 0.2155\n",
            "Epoch [5/15], Step [401/937], Loss: 0.3687\n",
            "Epoch [5/15], Step [601/937], Loss: 0.3355\n",
            "Epoch [5/15], Step [801/937], Loss: 0.3490\n",
            "Epoch [6/15], Step [1/937], Loss: 0.2009\n",
            "Epoch [6/15], Step [201/937], Loss: 0.0989\n",
            "Epoch [6/15], Step [401/937], Loss: 0.1744\n",
            "Epoch [6/15], Step [601/937], Loss: 0.2542\n",
            "Epoch [6/15], Step [801/937], Loss: 0.3925\n",
            "Epoch [7/15], Step [1/937], Loss: 0.4266\n",
            "Epoch [7/15], Step [201/937], Loss: 0.2644\n",
            "Epoch [7/15], Step [401/937], Loss: 0.3099\n",
            "Epoch [7/15], Step [601/937], Loss: 0.3539\n",
            "Epoch [7/15], Step [801/937], Loss: 0.2227\n",
            "Epoch [8/15], Step [1/937], Loss: 0.2394\n",
            "Epoch [8/15], Step [201/937], Loss: 0.1566\n",
            "Epoch [8/15], Step [401/937], Loss: 0.1639\n",
            "Epoch [8/15], Step [601/937], Loss: 0.0824\n",
            "Epoch [8/15], Step [801/937], Loss: 0.2952\n",
            "Epoch [9/15], Step [1/937], Loss: 0.4246\n",
            "Epoch [9/15], Step [201/937], Loss: 0.1674\n",
            "Epoch [9/15], Step [401/937], Loss: 0.1212\n",
            "Epoch [9/15], Step [601/937], Loss: 0.1045\n",
            "Epoch [9/15], Step [801/937], Loss: 0.1377\n",
            "Epoch [10/15], Step [1/937], Loss: 0.2146\n",
            "Epoch [10/15], Step [201/937], Loss: 0.2523\n",
            "Epoch [10/15], Step [401/937], Loss: 0.1809\n",
            "Epoch [10/15], Step [601/937], Loss: 0.3925\n",
            "Epoch [10/15], Step [801/937], Loss: 0.2594\n",
            "Epoch [11/15], Step [1/937], Loss: 0.1585\n",
            "Epoch [11/15], Step [201/937], Loss: 0.2007\n",
            "Epoch [11/15], Step [401/937], Loss: 0.1287\n",
            "Epoch [11/15], Step [601/937], Loss: 0.1012\n",
            "Epoch [11/15], Step [801/937], Loss: 0.2985\n",
            "Epoch [12/15], Step [1/937], Loss: 0.0404\n",
            "Epoch [12/15], Step [201/937], Loss: 0.1089\n",
            "Epoch [12/15], Step [401/937], Loss: 0.1104\n",
            "Epoch [12/15], Step [601/937], Loss: 0.2530\n",
            "Epoch [12/15], Step [801/937], Loss: 0.0424\n",
            "Epoch [13/15], Step [1/937], Loss: 0.1724\n",
            "Epoch [13/15], Step [201/937], Loss: 0.0410\n",
            "Epoch [13/15], Step [401/937], Loss: 0.2151\n",
            "Epoch [13/15], Step [601/937], Loss: 0.0558\n",
            "Epoch [13/15], Step [801/937], Loss: 0.2513\n",
            "Epoch [14/15], Step [1/937], Loss: 0.0656\n",
            "Epoch [14/15], Step [201/937], Loss: 0.1144\n",
            "Epoch [14/15], Step [401/937], Loss: 0.1970\n",
            "Epoch [14/15], Step [601/937], Loss: 0.2574\n",
            "Epoch [14/15], Step [801/937], Loss: 0.2270\n",
            "Epoch [15/15], Step [1/937], Loss: 0.0586\n",
            "Epoch [15/15], Step [201/937], Loss: 0.0935\n",
            "Epoch [15/15], Step [401/937], Loss: 0.0517\n",
            "Epoch [15/15], Step [601/937], Loss: 0.0518\n",
            "Epoch [15/15], Step [801/937], Loss: 0.0701\n"
          ]
        }
      ],
      "source": [
        "layers_dims=[784,500,250,100,10]\n",
        "train_acc,train_costs,trained_parameters=model1(train_dataset,layers_dims,num_epochs)"
      ]
    },
    {
      "cell_type": "code",
      "source": [
        "plt.plot(train_costs)\n",
        "plt.ylabel('cost')\n",
        "plt.xlabel('iterations')\n",
        "plt.title(\"Train Data: Learning rate = \"  + str(learning_rate) + \" Activation = \"+ \"relu\")\n",
        "plt.show()"
      ],
      "metadata": {
        "colab": {
          "base_uri": "https://localhost:8080/",
          "height": 295
        },
        "id": "k_mAgNOcBqCt",
        "outputId": "ea999c8e-9c63-4561-dae7-9303400baa6e"
      },
      "id": "k_mAgNOcBqCt",
      "execution_count": null,
      "outputs": [
        {
          "output_type": "display_data",
          "data": {
            "text/plain": [
              "<Figure size 432x288 with 1 Axes>"
            ],
            "image/png": "[encoded data removed]"
          },
          "metadata": {
            "needs_background": "light"
          }
        }
      ]
    },
    {
      "cell_type": "code",
      "execution_count": null,
      "id": "52cd3648",
      "metadata": {
        "id": "52cd3648"
      },
      "outputs": [],
      "source": [
        "p=len(test_dataset)\n",
        "\n",
        "loader = torch.utils.data.DataLoader(dataset=test_dataset,batch_size = p ,shuffle=True)\n",
        "dataiter = iter(loader)\n",
        "data = next(dataiter)\n",
        "X,y = data\n",
        "\n",
        "X=X.numpy()\n",
        "y=y.numpy()\n",
        "# Flatten the images\n",
        "image_vector_size = 28*28\n",
        "X = X.reshape(X.shape[0], image_vector_size)\n",
        "y_one_hot=convert_to_onehot(y,10)\n",
        "y_pred,cache=forward_propagation(X.T,trained_parameters)\n",
        "cost=compute_cost(y_pred,y_one_hot.T)\n",
        "\n",
        "test_accuracy=find_accuracy(y_one_hot,y_pred)\n",
        "test_cost=compute_cost(y_pred,y_one_hot.T)"
      ]
    },
    {
      "cell_type": "code",
      "execution_count": null,
      "id": "c2132e9f",
      "metadata": {
        "id": "c2132e9f",
        "colab": {
          "base_uri": "https://localhost:8080/",
          "height": 514
        },
        "outputId": "e31ffa0c-ab42-4215-abb9-aab2b3860b21"
      },
      "outputs": [
        {
          "output_type": "execute_result",
          "data": {
            "text/plain": [
              "Text(51.0, 0.5, 'truth')"
            ]
          },
          "metadata": {},
          "execution_count": 22
        },
        {
          "output_type": "display_data",
          "data": {
            "text/plain": [
              "<Figure size 576x576 with 2 Axes>"
            ],
            "image/png": "[encoded data removed]"
          },
          "metadata": {
            "needs_background": "light"
          }
        }
      ],
      "source": [
        "import seaborn as sn\n",
        "from sklearn.metrics import confusion_matrix\n",
        "k = np.argmax(y_pred,axis=0)\n",
        "cm=confusion_matrix(k, y)\n",
        "plt.figure(figsize=(8,8))\n",
        "sn.heatmap(confusion_matrix(k, y),annot=True,fmt='d')\n",
        "plt.xlabel('Predicted')\n",
        "plt.ylabel('truth')"
      ]
    },
    {
      "cell_type": "code",
      "execution_count": null,
      "id": "b11583ec",
      "metadata": {
        "id": "b11583ec",
        "colab": {
          "base_uri": "https://localhost:8080/",
          "height": 295
        },
        "outputId": "e4483104-7bd3-4b01-c84c-3f3b6dd977f0"
      },
      "outputs": [
        {
          "output_type": "display_data",
          "data": {
            "text/plain": [
              "<Figure size 432x288 with 1 Axes>"
            ],
            "image/png": "[encoded data removed]"
          },
          "metadata": {
            "needs_background": "light"
          }
        }
      ],
      "source": [
        "plt.plot(train_acc)\n",
        "plt.ylabel('accuracy')\n",
        "plt.xlabel('iterations')\n",
        "plt.title(\"Train Data: Learning rate = \"  + str(learning_rate) + \"Activation = \"+ \"relu\")\n",
        "plt.show()"
      ]
    },
    {
      "cell_type": "code",
      "execution_count": null,
      "id": "4a67d0e5",
      "metadata": {
        "id": "4a67d0e5"
      },
      "outputs": [],
      "source": [
        "m=len(train_dataset)\n",
        "train_batches=m/batch_size\n",
        "# test_costs=[]\n",
        "# test_accuracy=[]\n",
        "# for i in range(int(test_batches)):\n",
        "loader = torch.utils.data.DataLoader(dataset=train_dataset,batch_size = m ,shuffle=True)\n",
        "dataiter = iter(loader)\n",
        "data = next(dataiter)\n",
        "X_train,y_train = data\n",
        "\n",
        "X_train=X_train.numpy()\n",
        "y_train=y_train.numpy()\n",
        "# Flatten the images\n",
        "image_vector_size = 28*28\n",
        "X_train = X_train.reshape(X_train.shape[0], image_vector_size)\n",
        "y_train_one_hot=convert_to_onehot(y_train,num_classes)\n",
        "y_train_hat,out_train_cache=forward_propagation(X_train.T,trained_parameters)\n",
        "#     test_costs.append(compute_cost(y_hat,y_one_hot.T))\n",
        "#     test_accuracy.append(find_accuracy(y_one_hot,y_hat))\n",
        "train_accuracy_final=find_accuracy(y_train_one_hot,y_train_hat)\n",
        "train_cost_final=compute_cost(y_train_hat,y_train_one_hot.T)"
      ]
    },
    {
      "cell_type": "code",
      "execution_count": null,
      "id": "4b9ef330",
      "metadata": {
        "id": "4b9ef330",
        "colab": {
          "base_uri": "https://localhost:8080/"
        },
        "outputId": "31e52d26-5c59-4c2d-940c-0b9cb5d3fada"
      },
      "outputs": [
        {
          "output_type": "stream",
          "name": "stdout",
          "text": [
            "0.9799\n"
          ]
        }
      ],
      "source": [
        "print(train_accuracy_final)"
      ]
    },
    {
      "cell_type": "code",
      "execution_count": null,
      "id": "a1268093",
      "metadata": {
        "id": "a1268093",
        "colab": {
          "base_uri": "https://localhost:8080/"
        },
        "outputId": "437aae8c-572c-4878-a396-5f778794b0e1"
      },
      "outputs": [
        {
          "output_type": "stream",
          "name": "stdout",
          "text": [
            "0.9709\n"
          ]
        }
      ],
      "source": [
        "print(test_accuracy)"
      ]
    }
  ],
  "metadata": {
    "kernelspec": {
      "display_name": "Python 3 (ipykernel)",
      "language": "python",
      "name": "python3"
    },
    "language_info": {
      "codemirror_mode": {
        "name": "ipython",
        "version": 3
      },
      "file_extension": ".py",
      "mimetype": "text/x-python",
      "name": "python",
      "nbconvert_exporter": "python",
      "pygments_lexer": "ipython3",
      "version": "3.9.12"
    },
    "vscode": {
      "interpreter": {
        "hash": "00a1ae1e6deaa37076d141dc26cd1e058ef740ecaf1a0d690f5f0ccaa51e4cb2"
      }
    },
    "colab": {
      "name": "L-layer MLP from scratch.ipynb",
      "provenance": [],
      "collapsed_sections": []
    }
  },
  "nbformat": 4,
  "nbformat_minor": 5
}