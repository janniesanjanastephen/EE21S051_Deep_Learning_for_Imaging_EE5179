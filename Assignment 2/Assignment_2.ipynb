{
  "cells": [
    {
      "cell_type": "code",
      "execution_count": 1,
      "metadata": {
        "id": "evJgK2tA5yDM"
      },
      "outputs": [],
      "source": [
        "import torch\n",
        "import torchvision\n",
        "import torch.nn as nn \n",
        "import torch.nn.functional as F\n",
        "from torch.utils.data import DataLoader\n",
        "from torchvision import datasets, transforms\n",
        "import torchvision.transforms as transforms\n",
        "import matplotlib.pyplot as plt\n",
        "import numpy as np\n",
        "import pandas as pd\n",
        "from sklearn.metrics import confusion_matrix\n",
        "%matplotlib inline"
      ]
    },
    {
      "cell_type": "code",
      "source": [
        "# cpu-gpu\n",
        "a = torch.randn((3, 4))\n",
        "print(a.device)\n",
        "\n",
        "device = torch.device(\"cuda\")\n",
        "a = a.to(device)\n",
        "print(a.device)\n",
        "\n",
        "# a more generic code\n",
        "device = torch.device('cuda' if torch.cuda.is_available() else 'cpu')"
      ],
      "metadata": {
        "id": "aWlIt52oJZ4V"
      },
      "execution_count": null,
      "outputs": []
    },
    {
      "cell_type": "code",
      "source": [
        "!nvidia-smi"
      ],
      "metadata": {
        "id": "l1OEOF49JkZC"
      },
      "execution_count": null,
      "outputs": []
    },
    {
      "cell_type": "code",
      "execution_count": null,
      "metadata": {
        "id": "KUNdS9L55oPZ"
      },
      "outputs": [],
      "source": [
        "mnist_trainset = datasets.MNIST(root='./data', train=True, download=True, transform=transforms.Compose([transforms.ToTensor()]))\n",
        "mnist_testset = datasets.MNIST(root='./data', train=False, download=True, transform=transforms.Compose([transforms.ToTensor()]))\n",
        "\n",
        "mnist_valset, mnist_testset = torch.utils.data.random_split(mnist_testset, [int(0.9 * len(mnist_testset)), int(0.1 * len(mnist_testset))])"
      ]
    },
    {
      "cell_type": "code",
      "execution_count": null,
      "metadata": {
        "id": "jMlZ7ReY5r5N"
      },
      "outputs": [],
      "source": [
        "# visualize data\n",
        "fig=plt.figure(figsize=(20, 10))\n",
        "for i in range(1, 6):\n",
        "    img = transforms.ToPILImage(mode='L')(mnist_trainset[i][0])\n",
        "    fig.add_subplot(1, 6, i)\n",
        "    plt.title(mnist_trainset[i][1])\n",
        "    plt.imshow(img)\n",
        "plt.show()"
      ]
    },
    {
      "cell_type": "code",
      "execution_count": null,
      "metadata": {
        "id": "ie8FvcEn6Eqk"
      },
      "outputs": [],
      "source": [
        "class CNN_model(torch.nn.Module):\n",
        "    def __init__(self):\n",
        "        super(CNN_model, self).__init__()\n",
        "        self.conv_1 = torch.nn.Conv2d(in_channels=1, out_channels=32, kernel_size=3, stride=1, padding=1)\n",
        "        self.conv_2 = torch.nn.Conv2d(in_channels=32, out_channels=64, kernel_size=3, stride=1, padding=1)\n",
        "        self.max_pool2d = torch.nn.MaxPool2d(kernel_size=2, stride=2)\n",
        "        self.linear_1 = torch.nn.Linear(7 * 7 * 64, 500)\n",
        "        self.linear_2 = torch.nn.Linear(500, 10)\n",
        "        self.relu = torch.nn.ReLU()\n",
        "\n",
        "    def forward(self, x):\n",
        "        x = self.conv_1(x)\n",
        "        x = self.relu(x)\n",
        "        x = self.max_pool2d(x)\n",
        "        x = self.conv_2(x)\n",
        "        x = self.relu(x)\n",
        "        x = self.max_pool2d(x)\n",
        "        x = x.reshape(x.size(0), -1)\n",
        "        x = self.linear_1(x)\n",
        "        x = self.relu(x)\n",
        "        pred = self.linear_2(x)\n",
        "\n",
        "        return pred"
      ]
    },
    {
      "cell_type": "code",
      "execution_count": null,
      "metadata": {
        "id": "HzLK0YMUAxna"
      },
      "outputs": [],
      "source": [
        "model = CNN_model()\n",
        "criterion = torch.nn.CrossEntropyLoss()\n",
        "optimizer = torch.optim.Adam(model.parameters(), lr=0.001)\n",
        "print(model)"
      ]
    },
    {
      "cell_type": "code",
      "source": [
        "train_dataloader = torch.utils.data.DataLoader(mnist_trainset, batch_size=30000, shuffle=True)\n",
        "val_dataloader = torch.utils.data.DataLoader(mnist_valset, batch_size=500, shuffle=False)\n",
        "test_dataloader = torch.utils.data.DataLoader(mnist_testset, batch_size=4500, shuffle=False)"
      ],
      "metadata": {
        "id": "Mf4cj336Ep5G"
      },
      "execution_count": null,
      "outputs": []
    },
    {
      "cell_type": "code",
      "source": [
        "no_epochs = 20\n",
        "train_loss = list()\n",
        "val_loss = list()\n",
        "pred_accuracy = list()\n",
        "best_val_loss = 1\n",
        "for epoch in range(no_epochs):\n",
        "    total_train_loss = 0\n",
        "    total_val_loss = 0\n",
        "\n",
        "    model.train()\n",
        "    # training\n",
        "    for itr, (image, label) in enumerate(train_dataloader):\n",
        "        optimizer.zero_grad()\n",
        "\n",
        "        pred = model(image)\n",
        "\n",
        "        loss = criterion(pred, label)\n",
        "        total_train_loss += loss.item()\n",
        "\n",
        "        loss.backward()\n",
        "        optimizer.step()\n",
        "\n",
        "    total_train_loss = total_train_loss / (itr + 1)\n",
        "    train_loss.append(total_train_loss)\n",
        "    \n",
        "    # validation\n",
        "    model.eval()\n",
        "    total = 0\n",
        "    for itr, (image, label) in enumerate(val_dataloader):\n",
        "        pred = model(image)\n",
        "\n",
        "        loss = criterion(pred, label)\n",
        "        total_val_loss += loss.item()\n",
        "\n",
        "        pred = torch.nn.functional.softmax(pred, dim=1)\n",
        "        for i, p in enumerate(pred):\n",
        "            if label[i] == torch.max(p.data, 0)[1]:\n",
        "                total = total + 1\n",
        "\n",
        "    accuracy = total / len(mnist_valset)\n",
        "    pred_accuracy.append(accuracy)\n",
        "\n",
        "    total_val_loss = total_val_loss / (itr + 1)\n",
        "    val_loss.append(total_val_loss)\n",
        "\n",
        "    print('\\nEpoch: {}/{}, Train Loss: {:.8f}, Val Loss: {:.8f}, Val Accuracy: {:.8f}'.format(epoch + 1, no_epochs, total_train_loss, total_val_loss, accuracy))\n",
        "\n",
        "    if total_val_loss < best_val_loss:\n",
        "        best_val_loss = total_val_loss\n",
        "        print(\"Saving the model state dictionary for Epoch: {} with Validation loss: {:.8f}\".format(epoch + 1, total_val_loss))\n",
        "        torch.save(model.state_dict(), \"model.dth\")\n",
        "\n",
        "fig=plt.figure(figsize=(4, 4))\n",
        "plt.plot(np.arange(1, no_epochs+1), train_loss, label=\"Train loss\")\n",
        "plt.plot(np.arange(1, no_epochs+1), val_loss, label=\"Validation loss\")\n",
        "plt.xlabel('Loss')\n",
        "plt.ylabel('Epochs')\n",
        "plt.title(\"Loss Plots\")\n",
        "plt.legend(loc='upper right')\n",
        "plt.savefig('loss.png')\n",
        "\n",
        "\n",
        "fig=plt.figure(figsize=(4, 4))\n",
        "plt.plot(np.arange(1, no_epochs+1), pred_accuracy, label=\"Prediction accuracy\")\n",
        "plt.xlabel('Accuracy')\n",
        "plt.ylabel('Epochs')\n",
        "plt.title(\"Accuracy plot\")\n",
        "plt.legend(loc='upper right')\n",
        "plt.savefig('accuracy.png')"
      ],
      "metadata": {
        "id": "N4pMxyt9E2YJ"
      },
      "execution_count": null,
      "outputs": []
    },
    {
      "cell_type": "code",
      "source": [
        "# visualize data\n",
        "fig=plt.figure(figsize=(20, 10))\n",
        "for i in range(1, 6):\n",
        "    img = transforms.ToPILImage(mode='L')(mnist_trainset[i][0])\n",
        "    fig.add_subplot(1, 6, i)\n",
        "    plt.title(mnist_trainset[i][1])\n",
        "    pred = model(img)\n",
        "    pred = torch.nn.functional.softmax(pred, dim=1)\n",
        "    plt.imshow(img)\n",
        "    plt.title(\"Prediction: \"+ pred)\n",
        "plt.show()"
      ],
      "metadata": {
        "id": "ilCOCu0eUFkT"
      },
      "execution_count": null,
      "outputs": []
    },
    {
      "cell_type": "code",
      "source": [
        "train_dataloader = torch.utils.data.DataLoader(mnist_trainset, batch_size=64, shuffle=True)\n",
        "val_dataloader = torch.utils.data.DataLoader(mnist_valset, batch_size=32, shuffle=False)\n",
        "test_dataloader = torch.utils.data.DataLoader(mnist_testset, batch_size=32, shuffle=False)"
      ],
      "metadata": {
        "id": "2hUfCVNAEgod"
      },
      "execution_count": null,
      "outputs": []
    },
    {
      "cell_type": "code",
      "execution_count": 6,
      "metadata": {
        "colab": {
          "base_uri": "https://localhost:8080/",
          "height": 1000
        },
        "id": "Xpg-0h8ZBGfM",
        "outputId": "9ecc3fa1-808f-4d45-faa3-5bcedff7f972"
      },
      "outputs": [
        {
          "output_type": "stream",
          "name": "stdout",
          "text": [
            "\n",
            "Epoch: 1/20, Train Loss: 0.14993930, Val Loss: 0.04418621, Val Accuracy: 0.98566667\n",
            "Saving the model state dictionary for Epoch: 1 with Validation loss: 0.04418621\n",
            "\n",
            "Epoch: 2/20, Train Loss: 0.04435618, Val Loss: 0.03841449, Val Accuracy: 0.98777778\n",
            "Saving the model state dictionary for Epoch: 2 with Validation loss: 0.03841449\n",
            "\n",
            "Epoch: 3/20, Train Loss: 0.03039658, Val Loss: 0.02624442, Val Accuracy: 0.99177778\n",
            "Saving the model state dictionary for Epoch: 3 with Validation loss: 0.02624442\n",
            "\n",
            "Epoch: 4/20, Train Loss: 0.01995129, Val Loss: 0.02946928, Val Accuracy: 0.99033333\n",
            "\n",
            "Epoch: 5/20, Train Loss: 0.01625907, Val Loss: 0.03839264, Val Accuracy: 0.98866667\n",
            "\n",
            "Epoch: 6/20, Train Loss: 0.01111933, Val Loss: 0.04059754, Val Accuracy: 0.98866667\n",
            "\n",
            "Epoch: 7/20, Train Loss: 0.01052399, Val Loss: 0.03934832, Val Accuracy: 0.98722222\n",
            "\n",
            "Epoch: 8/20, Train Loss: 0.00896726, Val Loss: 0.02537464, Val Accuracy: 0.99322222\n",
            "Saving the model state dictionary for Epoch: 8 with Validation loss: 0.02537464\n",
            "\n",
            "Epoch: 9/20, Train Loss: 0.00675578, Val Loss: 0.03121511, Val Accuracy: 0.99133333\n",
            "\n",
            "Epoch: 10/20, Train Loss: 0.00694696, Val Loss: 0.02935803, Val Accuracy: 0.99100000\n",
            "\n",
            "Epoch: 11/20, Train Loss: 0.00530851, Val Loss: 0.02632365, Val Accuracy: 0.99300000\n",
            "\n",
            "Epoch: 12/20, Train Loss: 0.00436122, Val Loss: 0.02933713, Val Accuracy: 0.99222222\n",
            "\n",
            "Epoch: 13/20, Train Loss: 0.00499178, Val Loss: 0.04202644, Val Accuracy: 0.99255556\n",
            "\n",
            "Epoch: 14/20, Train Loss: 0.00451488, Val Loss: 0.04429746, Val Accuracy: 0.99033333\n",
            "\n",
            "Epoch: 15/20, Train Loss: 0.00478421, Val Loss: 0.04028844, Val Accuracy: 0.99111111\n",
            "\n",
            "Epoch: 16/20, Train Loss: 0.00279555, Val Loss: 0.04200973, Val Accuracy: 0.99177778\n",
            "\n",
            "Epoch: 17/20, Train Loss: 0.00259498, Val Loss: 0.04231780, Val Accuracy: 0.99177778\n",
            "\n",
            "Epoch: 18/20, Train Loss: 0.00436503, Val Loss: 0.04703714, Val Accuracy: 0.99200000\n",
            "\n",
            "Epoch: 19/20, Train Loss: 0.00239634, Val Loss: 0.03828337, Val Accuracy: 0.99266667\n",
            "\n",
            "Epoch: 20/20, Train Loss: 0.00268173, Val Loss: 0.03956969, Val Accuracy: 0.99244444\n"
          ]
        },
        {
          "output_type": "display_data",
          "data": {
            "text/plain": [
              "<Figure size 288x288 with 1 Axes>"
            ],
            "image/png": "[encoded data removed]"
          },
          "metadata": {
            "needs_background": "light"
          }
        },
        {
          "output_type": "display_data",
          "data": {
            "text/plain": [
              "<Figure size 288x288 with 1 Axes>"
            ],
            "image/png": "[encoded data removed]"
          },
          "metadata": {
            "needs_background": "light"
          }
        }
      ],
      "source": [
        "no_epochs = 20\n",
        "train_loss = list()\n",
        "val_loss = list()\n",
        "pred_accuracy = list()\n",
        "best_val_loss = 1\n",
        "for epoch in range(no_epochs):\n",
        "    total_train_loss = 0\n",
        "    total_val_loss = 0\n",
        "\n",
        "    model.train()\n",
        "    # training\n",
        "    for itr, (image, label) in enumerate(train_dataloader):\n",
        "        optimizer.zero_grad()\n",
        "\n",
        "        pred = model(image)\n",
        "\n",
        "        loss = criterion(pred, label)\n",
        "        total_train_loss += loss.item()\n",
        "\n",
        "        loss.backward()\n",
        "        optimizer.step()\n",
        "\n",
        "    total_train_loss = total_train_loss / (itr + 1)\n",
        "    train_loss.append(total_train_loss)\n",
        "    \n",
        "    # validation\n",
        "    model.eval()\n",
        "    total = 0\n",
        "    for itr, (image, label) in enumerate(val_dataloader):\n",
        "        pred = model(image)\n",
        "\n",
        "        loss = criterion(pred, label)\n",
        "        total_val_loss += loss.item()\n",
        "\n",
        "        pred = torch.nn.functional.softmax(pred, dim=1)\n",
        "        for i, p in enumerate(pred):\n",
        "            if label[i] == torch.max(p.data, 0)[1]:\n",
        "                total = total + 1\n",
        "\n",
        "    accuracy = total / len(mnist_valset)\n",
        "    pred_accuracy.append(accuracy)\n",
        "\n",
        "    total_val_loss = total_val_loss / (itr + 1)\n",
        "    val_loss.append(total_val_loss)\n",
        "\n",
        "    print('\\nEpoch: {}/{}, Train Loss: {:.8f}, Val Loss: {:.8f}, Val Accuracy: {:.8f}'.format(epoch + 1, no_epochs, total_train_loss, total_val_loss, accuracy))\n",
        "\n",
        "    if total_val_loss < best_val_loss:\n",
        "        best_val_loss = total_val_loss\n",
        "        print(\"Saving the model state dictionary for Epoch: {} with Validation loss: {:.8f}\".format(epoch + 1, total_val_loss))\n",
        "        torch.save(model.state_dict(), \"model.dth\")\n",
        "\n",
        "fig=plt.figure(figsize=(4, 4))\n",
        "plt.plot(np.arange(1, no_epochs+1), train_loss, label=\"Train loss\")\n",
        "plt.plot(np.arange(1, no_epochs+1), val_loss, label=\"Validation loss\")\n",
        "plt.xlabel('Loss')\n",
        "plt.ylabel('Epochs')\n",
        "plt.title(\"Loss Plots\")\n",
        "plt.legend(loc='upper right')\n",
        "plt.savefig('loss.png')\n",
        "\n",
        "\n",
        "fig=plt.figure(figsize=(4, 4))\n",
        "plt.plot(np.arange(1, no_epochs+1), pred_accuracy, label=\"Prediction accuracy\")\n",
        "plt.xlabel('Accuracy')\n",
        "plt.ylabel('Epochs')\n",
        "plt.title(\"Accuracy plot\")\n",
        "plt.legend(loc='upper right')\n",
        "plt.savefig('accuracy.png')"
      ]
    }
  ],
  "metadata": {
    "colab": {
      "collapsed_sections": [],
      "provenance": []
    },
    "kernelspec": {
      "display_name": "Python 3",
      "name": "python3"
    },
    "language_info": {
      "name": "python"
    },
    "accelerator": "GPU"
  },
  "nbformat": 4,
  "nbformat_minor": 0
}